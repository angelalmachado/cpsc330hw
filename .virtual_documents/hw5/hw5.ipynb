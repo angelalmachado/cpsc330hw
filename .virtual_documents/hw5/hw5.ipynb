# Initialize Otter
import otter
grader = otter.Notebook("hw5.ipynb")


import matplotlib.pyplot as plt
import numpy as np
import pandas as pd


airbnb_df = pd.read_csv("data/AB_NYC_2019.csv")
airbnb_df.head()


from sklearn.model_selection import train_test_split

train_df, test_df = train_test_split(
    airbnb_df, test_size=0.3, random_state=123
)


...


...


...


...


...


...


...


...


...


...


...


...


...


...


...


...


...


...





...


...


...


...


...


...


...


...


...


...


...


...


...


...


...


...


...


...


...


...


...


...


...


...


...


...


...


...


...


...


...


...


...


...


...


...


...


...


...
